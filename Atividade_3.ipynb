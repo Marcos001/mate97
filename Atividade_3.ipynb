{
 "cells": [
  {
   "cell_type": "code",
   "execution_count": 35,
   "metadata": {},
   "outputs": [],
   "source": [
    "import math\n",
    "\n",
    " \n",
    "\n",
    "def media(valores):\n",
    "    soma = sum(valores)\n",
    "    qtd_elementos = len(valores)\n",
    "    media = soma / float(qtd_elementos)\n",
    "    return media\n",
    "\n",
    "\n",
    "def variancia_amostral(valores):\n",
    "    _media = media(valores)\n",
    "    soma = 0\n",
    "    _variancia = 0\n",
    " \n",
    "    for valor in valores:\n",
    "        soma += math.pow( (valor - _media), 2)\n",
    "    _variancia = soma / float( len(valores-1) )\n",
    "    return _variancia\n",
    "\n",
    "\n",
    "def variancia(valores):\n",
    "    _media = media(valores)\n",
    "    soma = 0\n",
    "    _variancia = 0\n",
    " \n",
    "    for valor in valores:\n",
    "        soma += math.pow( (valor - _media), 2)\n",
    "    _variancia = soma / float( len(valores) )\n",
    "    return _variancia\n",
    "\n",
    "def desvio_padrao(valores):\n",
    "    return math.sqrt( variancia(valores) )\n",
    "\n",
    "\n",
    "def parametros_estatisticos(amostra):\n",
    "    mean = media(amostra)\n",
    "    var = variancia(amostra)\n",
    "    sd = desvio_padrao(amostra)\n",
    "    print('media[',mean,'] var[',var,'] sd[',sd,']')\n",
    "    return mean, var, sd\n",
    "\n",
    "def ic_media_populacional_var_desconhecida(media, tc, s, n):\n",
    "    error = (tc * (s/math.sqrt(n)))\n",
    "    ic_inf = media - error\n",
    "    ic_sup = media + error\n",
    "    print('[', ic_inf,';',ic_sup,']')\n",
    "    return ic_inf, ic_sup\n",
    "    "
   ]
  },
  {
   "cell_type": "code",
   "execution_count": 38,
   "metadata": {},
   "outputs": [
    {
     "name": "stdout",
     "output_type": "stream",
     "text": [
      "Norte\n",
      "media[ 26.0 ] var[ 34.0 ] sd[ 5.830951894845301 ]\n",
      "[ 20.285667143051604 ; 31.714332856948396 ]\n"
     ]
    }
   ],
   "source": [
    "alpha = 0.5\n",
    "gama = 0.95 # /2 = 0.475\n",
    "\n",
    "tc = 1.96\n",
    "\n",
    "# -- regiões --\n",
    "norte = [34,18,28,24]\n",
    "leste = [47,36,30,38]\n",
    "sul = [40,30,41,29]\n",
    "oeste = [21,30,24,37]\n",
    "\n",
    "print('Norte')\n",
    "\n",
    "mean, var, sd = parametros_estatisticos(norte)\n",
    "ic_norte = ic_media_populacional_var_desconhecida(mean, tc,sd,len(norte))"
   ]
  },
  {
   "cell_type": "code",
   "execution_count": 42,
   "metadata": {},
   "outputs": [
    {
     "name": "stdout",
     "output_type": "stream",
     "text": [
      "Leste\n",
      "media[ 37.75 ] var[ 37.1875 ] sd[ 6.098155458825234 ]\n",
      "[ 31.773807650351273 ; 43.72619234964873 ]\n"
     ]
    }
   ],
   "source": [
    "print('Leste')\n",
    "mean, var, sd = parametros_estatisticos(leste)\n",
    "ic_leste = ic_media_populacional_var_desconhecida(mean, tc,sd,len(leste))"
   ]
  },
  {
   "cell_type": "code",
   "execution_count": 44,
   "metadata": {},
   "outputs": [
    {
     "name": "stdout",
     "output_type": "stream",
     "text": [
      "Sul\n",
      "media[ 35.0 ] var[ 30.5 ] sd[ 5.522680508593631 ]\n",
      "[ 29.587773101578243 ; 40.41222689842176 ]\n"
     ]
    }
   ],
   "source": [
    "print('Sul')\n",
    "mean, var, sd = parametros_estatisticos(sul)\n",
    "ic_sul = ic_media_populacional_var_desconhecida(mean, tc,sd,len(sul))"
   ]
  },
  {
   "cell_type": "code",
   "execution_count": 45,
   "metadata": {},
   "outputs": [
    {
     "name": "stdout",
     "output_type": "stream",
     "text": [
      "Oeste\n",
      "media[ 28.0 ] var[ 37.5 ] sd[ 6.123724356957945 ]\n",
      "[ 21.998750130181215 ; 34.001249869818785 ]\n"
     ]
    }
   ],
   "source": [
    "print('Oeste')\n",
    "mean, var, sd = parametros_estatisticos(oeste)\n",
    "ic_oeste = ic_media_populacional_var_desconhecida(mean, tc,sd,len(oeste))"
   ]
  },
  {
   "cell_type": "code",
   "execution_count": 46,
   "metadata": {},
   "outputs": [],
   "source": [
    "import matplotlib.pyplot as plt"
   ]
  },
  {
   "cell_type": "code",
   "execution_count": 61,
   "metadata": {},
   "outputs": [
    {
     "data": {
      "text/plain": [
       "Text(0.5,1,'Intervalos de confiança para a média')"
      ]
     },
     "execution_count": 61,
     "metadata": {},
     "output_type": "execute_result"
    },
    {
     "data": {
      "image/png": "[encoded data removed]",
      "text/plain": [
       "<Figure size 432x288 with 1 Axes>"
      ]
     },
     "metadata": {},
     "output_type": "display_data"
    }
   ],
   "source": [
    "plt.plot([ic_norte[0], ic_norte[1]],[1,1], '-bo')\n",
    "plt.plot([ic_leste[0], ic_leste[1]],[2,2], '-ro')\n",
    "plt.plot([ic_sul[0], ic_sul[1]],[3,3], '-go')\n",
    "plt.plot([ic_oeste[0], ic_oeste[1]],[4,4], '-yo')\n",
    "plt.title('Intervalos de confiança para a média')"
   ]
  },
  {
   "cell_type": "code",
   "execution_count": null,
   "metadata": {},
   "outputs": [],
   "source": []
  }
 ],
 "metadata": {
  "kernelspec": {
   "display_name": "Python 3",
   "language": "python",
   "name": "python3"
  },
  "language_info": {
   "codemirror_mode": {
    "name": "ipython",
    "version": 3
   },
   "file_extension": ".py",
   "mimetype": "text/x-python",
   "name": "python",
   "nbconvert_exporter": "python",
   "pygments_lexer": "ipython3",
   "version": "3.6.6"
  }
 },
 "nbformat": 4,
 "nbformat_minor": 2
}
